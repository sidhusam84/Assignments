{
 "cells": [
  {
   "cell_type": "code",
   "execution_count": 1,
   "metadata": {},
   "outputs": [],
   "source": [
    "import tabula as tab"
   ]
  },
  {
   "cell_type": "code",
   "execution_count": 7,
   "metadata": {},
   "outputs": [],
   "source": [
    "df= tab.read_pdf('datasets_560422_1058710_COVID-19-Daily-Updated-SitRep-11-Mar-2020.pdf',pages='all',\n",
    "                 multiple_tables=True)"
   ]
  },
  {
   "cell_type": "code",
   "execution_count": 64,
   "metadata": {},
   "outputs": [
    {
     "data": {
      "text/html": [
       "<div>\n",
       "<style scoped>\n",
       "    .dataframe tbody tr th:only-of-type {\n",
       "        vertical-align: middle;\n",
       "    }\n",
       "\n",
       "    .dataframe tbody tr th {\n",
       "        vertical-align: top;\n",
       "    }\n",
       "\n",
       "    .dataframe thead th {\n",
       "        text-align: right;\n",
       "    }\n",
       "</style>\n",
       "<table border=\"1\" class=\"dataframe\">\n",
       "  <thead>\n",
       "    <tr style=\"text-align: right;\">\n",
       "      <th></th>\n",
       "      <th>Unnamed: 0</th>\n",
       "      <th>Daily Situation Report – Pakistan</th>\n",
       "      <th>Unnamed: 1</th>\n",
       "    </tr>\n",
       "  </thead>\n",
       "  <tbody>\n",
       "    <tr>\n",
       "      <th>0</th>\n",
       "      <td>NaN</td>\n",
       "      <td>COVID-19</td>\n",
       "      <td>NaN</td>\n",
       "    </tr>\n",
       "    <tr>\n",
       "      <th>1</th>\n",
       "      <td>NaN</td>\n",
       "      <td>March 11, 2020</td>\n",
       "      <td>NaN</td>\n",
       "    </tr>\n",
       "    <tr>\n",
       "      <th>2</th>\n",
       "      <td>NaN</td>\n",
       "      <td>Data of Suspected and Confirmed Cases Traveler...</td>\n",
       "      <td>NaN</td>\n",
       "    </tr>\n",
       "    <tr>\n",
       "      <th>3</th>\n",
       "      <td>NaN</td>\n",
       "      <td>Suspected cases at</td>\n",
       "      <td>NaN</td>\n",
       "    </tr>\n",
       "    <tr>\n",
       "      <th>4</th>\n",
       "      <td>NaN</td>\n",
       "      <td>Hospital Update Entry in last 24 hours</td>\n",
       "      <td>NaN</td>\n",
       "    </tr>\n",
       "    <tr>\n",
       "      <th>5</th>\n",
       "      <td>NaN</td>\n",
       "      <td>hospitals</td>\n",
       "      <td>NaN</td>\n",
       "    </tr>\n",
       "    <tr>\n",
       "      <th>6</th>\n",
       "      <td>Province/</td>\n",
       "      <td>Cumulative travelers Screened  873,288</td>\n",
       "      <td>NaN</td>\n",
       "    </tr>\n",
       "    <tr>\n",
       "      <th>7</th>\n",
       "      <td>NaN</td>\n",
       "      <td>New Tests Cumulative Cumulative</td>\n",
       "      <td>NaN</td>\n",
       "    </tr>\n",
       "    <tr>\n",
       "      <th>8</th>\n",
       "      <td>Region</td>\n",
       "      <td>NaN</td>\n",
       "      <td>NaN</td>\n",
       "    </tr>\n",
       "    <tr>\n",
       "      <th>9</th>\n",
       "      <td>NaN</td>\n",
       "      <td>(last 24 Cumulative performed in tests Test  S...</td>\n",
       "      <td>26</td>\n",
       "    </tr>\n",
       "    <tr>\n",
       "      <th>10</th>\n",
       "      <td>NaN</td>\n",
       "      <td>hrs) last 24 hours* performed*  positive*  Cal...</td>\n",
       "      <td>NaN</td>\n",
       "    </tr>\n",
       "    <tr>\n",
       "      <th>11</th>\n",
       "      <td>ICT</td>\n",
       "      <td>3 48 8 80 2  2 0 0 from China from Iran</td>\n",
       "      <td>NaN</td>\n",
       "    </tr>\n",
       "    <tr>\n",
       "      <th>12</th>\n",
       "      <td>Punjab</td>\n",
       "      <td>6 61 7 95 0 0 0 0 First-time calls in 17</td>\n",
       "      <td>0</td>\n",
       "    </tr>\n",
       "    <tr>\n",
       "      <th>13</th>\n",
       "      <td>Sindh</td>\n",
       "      <td>1 84 55 171 14 13 1 0</td>\n",
       "      <td>NaN</td>\n",
       "    </tr>\n",
       "    <tr>\n",
       "      <th>14</th>\n",
       "      <td>NaN</td>\n",
       "      <td>past 24 hrs</td>\n",
       "      <td>NaN</td>\n",
       "    </tr>\n",
       "    <tr>\n",
       "      <th>15</th>\n",
       "      <td>KP</td>\n",
       "      <td>0 20 2 28 0 0 0 0</td>\n",
       "      <td>NaN</td>\n",
       "    </tr>\n",
       "    <tr>\n",
       "      <th>16</th>\n",
       "      <td>KPTD</td>\n",
       "      <td>0 3 0 0 0 0 0 0 Cumulative no of 5,342</td>\n",
       "      <td>9,459</td>\n",
       "    </tr>\n",
       "    <tr>\n",
       "      <th>17</th>\n",
       "      <td>Balochistan</td>\n",
       "      <td>4 19 4 18 1 1 0 0 first-time calls</td>\n",
       "      <td>NaN</td>\n",
       "    </tr>\n",
       "    <tr>\n",
       "      <th>18</th>\n",
       "      <td>AJK</td>\n",
       "      <td>0 3 0 4 0 0 0 0 Follow-up calls in 400</td>\n",
       "      <td>353</td>\n",
       "    </tr>\n",
       "    <tr>\n",
       "      <th>19</th>\n",
       "      <td>GB</td>\n",
       "      <td>10 4 26 2 2 0 0 past 24 hrs</td>\n",
       "      <td>NaN</td>\n",
       "    </tr>\n",
       "    <tr>\n",
       "      <th>20</th>\n",
       "      <td>Total</td>\n",
       "      <td>14 248 80 422 19 18 1 0 Cumulative 7,746</td>\n",
       "      <td>2,553</td>\n",
       "    </tr>\n",
       "    <tr>\n",
       "      <th>21</th>\n",
       "      <td>*Data updated from NIH Live Dashboard (link at...</td>\n",
       "      <td>follow-up calls</td>\n",
       "      <td>NaN</td>\n",
       "    </tr>\n",
       "    <tr>\n",
       "      <th>22</th>\n",
       "      <td>** Follow-up calls to contacts of cases</td>\n",
       "      <td>NaN</td>\n",
       "      <td>NaN</td>\n",
       "    </tr>\n",
       "    <tr>\n",
       "      <th>23</th>\n",
       "      <td>Updates: Pakistan:</td>\n",
       "      <td>NaN</td>\n",
       "      <td>NaN</td>\n",
       "    </tr>\n",
       "    <tr>\n",
       "      <th>24</th>\n",
       "      <td>• Three new cases have been confirmed in the p...</td>\n",
       "      <td>Advised Self- 11</td>\n",
       "      <td>0</td>\n",
       "    </tr>\n",
       "    <tr>\n",
       "      <th>25</th>\n",
       "      <td>• Number of calls to passengers returning from...</td>\n",
       "      <td>Quarantine</td>\n",
       "      <td>NaN</td>\n",
       "    </tr>\n",
       "    <tr>\n",
       "      <th>26</th>\n",
       "      <td>Global:</td>\n",
       "      <td>National Emergency Operation Centre</td>\n",
       "      <td>NaN</td>\n",
       "    </tr>\n",
       "    <tr>\n",
       "      <th>27</th>\n",
       "      <td>• Total cases: 118,887,  Total Deaths: 4,290</td>\n",
       "      <td>Helpline 1166 Summary</td>\n",
       "      <td>NaN</td>\n",
       "    </tr>\n",
       "    <tr>\n",
       "      <th>28</th>\n",
       "      <td>• Total affected countries: 109 including Turk...</td>\n",
       "      <td>NaN</td>\n",
       "      <td>NaN</td>\n",
       "    </tr>\n",
       "    <tr>\n",
       "      <th>29</th>\n",
       "      <td>NIH Preparedness and Response:</td>\n",
       "      <td>New Calls  547</td>\n",
       "      <td>NaN</td>\n",
       "    </tr>\n",
       "    <tr>\n",
       "      <th>30</th>\n",
       "      <td>• BSL-3 mobile lab with state of art equipment...</td>\n",
       "      <td>Cumulative Calls 12,481</td>\n",
       "      <td>NaN</td>\n",
       "    </tr>\n",
       "    <tr>\n",
       "      <th>31</th>\n",
       "      <td>• IPC trainings have been completed at Gilgit ...</td>\n",
       "      <td>since 31st Jan, 2020</td>\n",
       "      <td>NaN</td>\n",
       "    </tr>\n",
       "    <tr>\n",
       "      <th>32</th>\n",
       "      <td>• Training of the GB lab staff has been conduc...</td>\n",
       "      <td>NaN</td>\n",
       "      <td>NaN</td>\n",
       "    </tr>\n",
       "    <tr>\n",
       "      <th>33</th>\n",
       "      <td>• IPC training is in progress for FG Hospital ...</td>\n",
       "      <td>NaN</td>\n",
       "      <td>NaN</td>\n",
       "    </tr>\n",
       "    <tr>\n",
       "      <th>34</th>\n",
       "      <td>Risk Assessment: Current impact of the disease...</td>\n",
       "      <td>NaN</td>\n",
       "      <td>NaN</td>\n",
       "    </tr>\n",
       "    <tr>\n",
       "      <th>35</th>\n",
       "      <td>Provinces Preparedness and Response</td>\n",
       "      <td>NaN</td>\n",
       "      <td>NaN</td>\n",
       "    </tr>\n",
       "    <tr>\n",
       "      <th>36</th>\n",
       "      <td>Balochistan</td>\n",
       "      <td>• 316 newly arrived individuals screened and q...</td>\n",
       "      <td>NaN</td>\n",
       "    </tr>\n",
       "    <tr>\n",
       "      <th>37</th>\n",
       "      <td>NaN</td>\n",
       "      <td>• 14 Chinese nationals quarantined at East Bay...</td>\n",
       "      <td>NaN</td>\n",
       "    </tr>\n",
       "    <tr>\n",
       "      <th>38</th>\n",
       "      <td>NaN</td>\n",
       "      <td>after doctors’ examination.</td>\n",
       "      <td>NaN</td>\n",
       "    </tr>\n",
       "    <tr>\n",
       "      <th>39</th>\n",
       "      <td>Sindh</td>\n",
       "      <td>• Staff deployed to designated quarantine faci...</td>\n",
       "      <td>NaN</td>\n",
       "    </tr>\n",
       "    <tr>\n",
       "      <th>40</th>\n",
       "      <td>NaN</td>\n",
       "      <td>• Training and orientation sessions for the he...</td>\n",
       "      <td>NaN</td>\n",
       "    </tr>\n",
       "    <tr>\n",
       "      <th>41</th>\n",
       "      <td>KP &amp; TD</td>\n",
       "      <td>• 24 High Dependency Units established across KP.</td>\n",
       "      <td>NaN</td>\n",
       "    </tr>\n",
       "    <tr>\n",
       "      <th>42</th>\n",
       "      <td>NaN</td>\n",
       "      <td>• 20 hospitals identified as back-up facilitie...</td>\n",
       "      <td>NaN</td>\n",
       "    </tr>\n",
       "    <tr>\n",
       "      <th>43</th>\n",
       "      <td>NaN</td>\n",
       "      <td>• 20 bed isolation and 5 bed in ICU at D.I Kha...</td>\n",
       "      <td>NaN</td>\n",
       "    </tr>\n",
       "    <tr>\n",
       "      <th>44</th>\n",
       "      <td>GB</td>\n",
       "      <td>• 280 healthcare workers oriented on COVID-19 ...</td>\n",
       "      <td>NaN</td>\n",
       "    </tr>\n",
       "    <tr>\n",
       "      <th>45</th>\n",
       "      <td>Risk Communication:</td>\n",
       "      <td>NaN</td>\n",
       "      <td>NaN</td>\n",
       "    </tr>\n",
       "    <tr>\n",
       "      <th>46</th>\n",
       "      <td>1. Clean your hands regularly with an alcohol-...</td>\n",
       "      <td>NaN</td>\n",
       "      <td>NaN</td>\n",
       "    </tr>\n",
       "    <tr>\n",
       "      <th>47</th>\n",
       "      <td>2. Clean surfaces regularly with recommended d...</td>\n",
       "      <td>NaN</td>\n",
       "      <td>NaN</td>\n",
       "    </tr>\n",
       "    <tr>\n",
       "      <th>48</th>\n",
       "      <td>3. Avoid touching your eyes, nose and mouth wi...</td>\n",
       "      <td>NaN</td>\n",
       "      <td>NaN</td>\n",
       "    </tr>\n",
       "    <tr>\n",
       "      <th>49</th>\n",
       "      <td>4. Practice respiratory hygiene by coughing or...</td>\n",
       "      <td>NaN</td>\n",
       "      <td>NaN</td>\n",
       "    </tr>\n",
       "    <tr>\n",
       "      <th>50</th>\n",
       "      <td>5. Wear a medical/surgical mask if you have re...</td>\n",
       "      <td>NaN</td>\n",
       "      <td>NaN</td>\n",
       "    </tr>\n",
       "    <tr>\n",
       "      <th>51</th>\n",
       "      <td>6. Maintain a minimum of mandatory one meter d...</td>\n",
       "      <td>NaN</td>\n",
       "      <td>NaN</td>\n",
       "    </tr>\n",
       "    <tr>\n",
       "      <th>52</th>\n",
       "      <td>7. Healthcare workers are required to select a...</td>\n",
       "      <td>NaN</td>\n",
       "      <td>NaN</td>\n",
       "    </tr>\n",
       "    <tr>\n",
       "      <th>53</th>\n",
       "      <td>8. Administrative controls include ensuring th...</td>\n",
       "      <td>NaN</td>\n",
       "      <td>NaN</td>\n",
       "    </tr>\n",
       "    <tr>\n",
       "      <th>54</th>\n",
       "      <td>testing, triage and patient placement, adequat...</td>\n",
       "      <td>NaN</td>\n",
       "      <td>NaN</td>\n",
       "    </tr>\n",
       "    <tr>\n",
       "      <th>55</th>\n",
       "      <td>9. Environmental and engineering controls aim ...</td>\n",
       "      <td>NaN</td>\n",
       "      <td>NaN</td>\n",
       "    </tr>\n",
       "    <tr>\n",
       "      <th>56</th>\n",
       "      <td>inanimate objects.</td>\n",
       "      <td>NaN</td>\n",
       "      <td>NaN</td>\n",
       "    </tr>\n",
       "  </tbody>\n",
       "</table>\n",
       "</div>"
      ],
      "text/plain": [
       "                                           Unnamed: 0  \\\n",
       "0                                                 NaN   \n",
       "1                                                 NaN   \n",
       "2                                                 NaN   \n",
       "3                                                 NaN   \n",
       "4                                                 NaN   \n",
       "5                                                 NaN   \n",
       "6                                           Province/   \n",
       "7                                                 NaN   \n",
       "8                                              Region   \n",
       "9                                                 NaN   \n",
       "10                                                NaN   \n",
       "11                                                ICT   \n",
       "12                                             Punjab   \n",
       "13                                              Sindh   \n",
       "14                                                NaN   \n",
       "15                                                 KP   \n",
       "16                                               KPTD   \n",
       "17                                        Balochistan   \n",
       "18                                                AJK   \n",
       "19                                                 GB   \n",
       "20                                              Total   \n",
       "21  *Data updated from NIH Live Dashboard (link at...   \n",
       "22            ** Follow-up calls to contacts of cases   \n",
       "23                                 Updates: Pakistan:   \n",
       "24  • Three new cases have been confirmed in the p...   \n",
       "25  • Number of calls to passengers returning from...   \n",
       "26                                            Global:   \n",
       "27       • Total cases: 118,887,  Total Deaths: 4,290   \n",
       "28  • Total affected countries: 109 including Turk...   \n",
       "29                     NIH Preparedness and Response:   \n",
       "30  • BSL-3 mobile lab with state of art equipment...   \n",
       "31  • IPC trainings have been completed at Gilgit ...   \n",
       "32  • Training of the GB lab staff has been conduc...   \n",
       "33  • IPC training is in progress for FG Hospital ...   \n",
       "34  Risk Assessment: Current impact of the disease...   \n",
       "35                Provinces Preparedness and Response   \n",
       "36                                        Balochistan   \n",
       "37                                                NaN   \n",
       "38                                                NaN   \n",
       "39                                              Sindh   \n",
       "40                                                NaN   \n",
       "41                                            KP & TD   \n",
       "42                                                NaN   \n",
       "43                                                NaN   \n",
       "44                                                 GB   \n",
       "45                                Risk Communication:   \n",
       "46  1. Clean your hands regularly with an alcohol-...   \n",
       "47  2. Clean surfaces regularly with recommended d...   \n",
       "48  3. Avoid touching your eyes, nose and mouth wi...   \n",
       "49  4. Practice respiratory hygiene by coughing or...   \n",
       "50  5. Wear a medical/surgical mask if you have re...   \n",
       "51  6. Maintain a minimum of mandatory one meter d...   \n",
       "52  7. Healthcare workers are required to select a...   \n",
       "53  8. Administrative controls include ensuring th...   \n",
       "54  testing, triage and patient placement, adequat...   \n",
       "55  9. Environmental and engineering controls aim ...   \n",
       "56                                 inanimate objects.   \n",
       "\n",
       "                    Daily Situation Report – Pakistan Unnamed: 1  \n",
       "0                                            COVID-19        NaN  \n",
       "1                                      March 11, 2020        NaN  \n",
       "2   Data of Suspected and Confirmed Cases Traveler...        NaN  \n",
       "3                                  Suspected cases at        NaN  \n",
       "4              Hospital Update Entry in last 24 hours        NaN  \n",
       "5                                           hospitals        NaN  \n",
       "6              Cumulative travelers Screened  873,288        NaN  \n",
       "7                     New Tests Cumulative Cumulative        NaN  \n",
       "8                                                 NaN        NaN  \n",
       "9   (last 24 Cumulative performed in tests Test  S...         26  \n",
       "10  hrs) last 24 hours* performed*  positive*  Cal...        NaN  \n",
       "11            3 48 8 80 2  2 0 0 from China from Iran        NaN  \n",
       "12           6 61 7 95 0 0 0 0 First-time calls in 17          0  \n",
       "13                              1 84 55 171 14 13 1 0        NaN  \n",
       "14                                        past 24 hrs        NaN  \n",
       "15                                  0 20 2 28 0 0 0 0        NaN  \n",
       "16             0 3 0 0 0 0 0 0 Cumulative no of 5,342      9,459  \n",
       "17                 4 19 4 18 1 1 0 0 first-time calls        NaN  \n",
       "18             0 3 0 4 0 0 0 0 Follow-up calls in 400        353  \n",
       "19                        10 4 26 2 2 0 0 past 24 hrs        NaN  \n",
       "20           14 248 80 422 19 18 1 0 Cumulative 7,746      2,553  \n",
       "21                                    follow-up calls        NaN  \n",
       "22                                                NaN        NaN  \n",
       "23                                                NaN        NaN  \n",
       "24                                   Advised Self- 11          0  \n",
       "25                                         Quarantine        NaN  \n",
       "26                National Emergency Operation Centre        NaN  \n",
       "27                              Helpline 1166 Summary        NaN  \n",
       "28                                                NaN        NaN  \n",
       "29                                     New Calls  547        NaN  \n",
       "30                            Cumulative Calls 12,481        NaN  \n",
       "31                               since 31st Jan, 2020        NaN  \n",
       "32                                                NaN        NaN  \n",
       "33                                                NaN        NaN  \n",
       "34                                                NaN        NaN  \n",
       "35                                                NaN        NaN  \n",
       "36  • 316 newly arrived individuals screened and q...        NaN  \n",
       "37  • 14 Chinese nationals quarantined at East Bay...        NaN  \n",
       "38                        after doctors’ examination.        NaN  \n",
       "39  • Staff deployed to designated quarantine faci...        NaN  \n",
       "40  • Training and orientation sessions for the he...        NaN  \n",
       "41  • 24 High Dependency Units established across KP.        NaN  \n",
       "42  • 20 hospitals identified as back-up facilitie...        NaN  \n",
       "43  • 20 bed isolation and 5 bed in ICU at D.I Kha...        NaN  \n",
       "44  • 280 healthcare workers oriented on COVID-19 ...        NaN  \n",
       "45                                                NaN        NaN  \n",
       "46                                                NaN        NaN  \n",
       "47                                                NaN        NaN  \n",
       "48                                                NaN        NaN  \n",
       "49                                                NaN        NaN  \n",
       "50                                                NaN        NaN  \n",
       "51                                                NaN        NaN  \n",
       "52                                                NaN        NaN  \n",
       "53                                                NaN        NaN  \n",
       "54                                                NaN        NaN  \n",
       "55                                                NaN        NaN  \n",
       "56                                                NaN        NaN  "
      ]
     },
     "execution_count": 64,
     "metadata": {},
     "output_type": "execute_result"
    }
   ],
   "source": [
    "df[0]"
   ]
  },
  {
   "cell_type": "code",
   "execution_count": 11,
   "metadata": {},
   "outputs": [
    {
     "name": "stdout",
     "output_type": "stream",
     "text": [
      "Collecting PyPDF2\n",
      "  Downloading PyPDF2-1.26.0.tar.gz (77 kB)\n",
      "\u001b[K     |████████████████████████████████| 77 kB 2.0 MB/s eta 0:00:011\n",
      "\u001b[?25hBuilding wheels for collected packages: PyPDF2\n",
      "  Building wheel for PyPDF2 (setup.py) ... \u001b[?25ldone\n",
      "\u001b[?25h  Created wheel for PyPDF2: filename=PyPDF2-1.26.0-py3-none-any.whl size=61084 sha256=ed99b090954c7c33236c1e0323f865a4210ba6f0054de28cb45c91db981a7690\n",
      "  Stored in directory: /Users/siddharth/Library/Caches/pip/wheels/b1/1a/8f/a4c34be976825a2f7948d0fa40907598d69834f8ab5889de11\n",
      "Successfully built PyPDF2\n",
      "Installing collected packages: PyPDF2\n",
      "Successfully installed PyPDF2-1.26.0\n"
     ]
    }
   ],
   "source": [
    "! pip install PyPDF2"
   ]
  },
  {
   "cell_type": "code",
   "execution_count": 62,
   "metadata": {},
   "outputs": [
    {
     "data": {
      "text/plain": [
       "' \\n \\nMinistry of National Health Services, Regulations and Coordination\\n \\nField Epidemiology and Disease Survei\\nllance Division (FEDSD)\\n, \\nNational Institute of Health (NIH), Islamabad\\n \\n(Phone: 051\\n-\\n \\n9255237, \\nFax:\\n \\n051\\n-\\n9255099\\n \\nEmail: fedsd@nih.org.pk)\\n \\nAll relevant \\nguidelines, \\nSOPs and dashboard \\ninformation \\nare available at NIH website: \\nhttps://www.nih.org.pk\\n \\nFor emergency Contact/information: 1166\\n \\n \\n \\n \\nDaily Situation Report \\n\\n \\nPakistan\\n \\nCOVID\\n-\\n19\\n \\nMarch\\n \\n11\\n, 2020 \\n \\nData of Suspected and Confirmed Cases\\n \\nProvince/ \\nRegion\\n \\n \\nSuspected cases at \\nhospitals\\n \\n \\nHospital \\nUpdate\\n \\nNew\\n \\n(last 24 \\nhrs)\\n \\n \\nCumulative\\n \\n \\nTests \\nperformed in \\nlast 24 hours\\n*\\n \\nCumulative \\ntests \\nperformed\\n*\\n \\n \\nCumulative \\nTest\\n \\npositive\\n*\\n \\n \\n \\nStill admitted \\n \\nDischarged\\n \\nExpired\\n \\nICT  \\n \\n3\\n \\n48\\n \\n8\\n \\n80\\n \\n2\\n \\n \\n2\\n \\n0\\n \\n0\\n \\nPunjab\\n \\n6\\n \\n61\\n \\n7\\n \\n95\\n \\n0\\n \\n0\\n \\n0\\n \\n0\\n \\nSindh\\n \\n1\\n \\n84\\n \\n55\\n \\n171\\n \\n14\\n \\n13\\n \\n1\\n \\n0\\n \\nKP\\n \\n0\\n \\n20\\n \\n2\\n \\n28\\n \\n0\\n \\n0\\n \\n0\\n \\n0\\n \\nKPTD \\n \\n0\\n \\n3\\n \\n0\\n \\n0\\n \\n0\\n \\n0\\n \\n0\\n \\n0\\n \\nBalochistan \\n \\n4\\n \\n19\\n \\n4\\n \\n18\\n \\n1\\n \\n1\\n \\n0\\n \\n0\\n \\nAJK\\n \\n0\\n \\n3\\n \\n0\\n \\n4\\n \\n0\\n \\n0\\n \\n0\\n \\n0\\n \\nGB\\n \\n \\n10\\n \\n4\\n \\n26\\n \\n2\\n \\n2\\n \\n0\\n \\n0\\n \\nTotal\\n \\n14\\n \\n248\\n \\n80\\n \\n422\\n \\n19\\n \\n18\\n \\n1\\n \\n0\\n \\n*Data updated from NIH Live Dashboard (link at the bottom)\\n \\n**\\n \\nFollo\\nw\\n-\\nup calls to contacts of cases\\n \\nTravelers Screened at Points of \\nEntry\\n \\nin last 24 hours\\n \\n21,102\\n \\nCumulative travelers Screened\\n \\n \\n873,288\\n \\nSuspected at Points of Entry\\n \\n \\n26\\n \\nCall Records (n)\\n \\nReturnees \\nfrom \\nChina\\n \\nReturnees \\nfrom \\nIran\\n \\nFirst\\n-\\ntime calls in \\npast 24 hrs \\n \\n17\\n \\n0\\n \\nCumulative no of \\nfirst\\n-\\ntime calls \\n \\n5,342\\n \\n9,459\\n \\nFollow\\n-\\nup calls in \\npast 24 hrs\\n \\n400\\n \\n353\\n \\nCumulative \\nfollow\\n-\\nup calls\\n \\n7,746\\n \\n2,553\\n \\nUpdates\\n:\\n \\nPakistan:\\n \\n \\n\\n \\nThree new cases have been confirmed in the past 24 hours, bringing the tally to 19.\\n \\n\\n \\nNumber of calls to passengers returning from Iraq: 144\\n \\nGlobal\\n:\\n \\n\\n \\nTotal cases: 118,887, \\n \\nTotal Deaths: 4,290\\n \\n\\n \\nTotal affected countries: \\n109 including Turkey and Panama. \\n \\nAdvised Self\\n-\\nQuarantine\\n \\n11\\n \\n0\\n \\nNational Emergency Operation Centre\\n \\nHelpline 1166 Summary\\n \\nNIH Preparedness \\nand Response: \\n \\n\\n \\nBSL\\n-\\n3 \\nmobile lab with state of art equipment\\n \\nhas been installed at\\n \\nTaftan\\n \\nand ready for testing. \\n \\n\\n \\nIPC \\ntrainings\\n \\nhave been completed at Gilgit and the tem is moving towards Skardu.\\n \\n \\n\\n \\nTraining of the GB lab staff has been conducted at NIH and necessary equipment provided. \\n \\n\\n \\nIPC training is in progress for FG Hospital staff at NIH.\\n \\nNew Calls \\n \\n547\\n \\nCumulative Calls \\nsince 31st Jan, 2020\\n \\n \\n12,481\\n \\nRisk Assessment: \\nCurrent impact of the disease in Pakistan is: \\nMODERATE.    \\n \\nProvinces\\n \\nPreparedness and Response\\n \\nBalochistan\\n \\n\\n \\n316 newly arrived \\nindividuals screened \\nand quarantined at Taftan border in last 24 hours. \\n \\n\\n \\n14 Chinese nationals quarantined at East Bay Expressway Chinese Camp, Gwadar\\n.\\n \\nAll found healthy with no sign of COVID\\n-\\n19 \\n\\n \\nSindh\\n \\n\\n \\nS\\ntaff deployed t\\no designat\\ned quarantine facility at Gadap, Karachi\\n. \\n \\n\\n \\nTraining\\n \\nand orientation sessions for the health\\n \\nstaff at Hyderabad started.\\n \\n \\nKP & TD\\n \\n\\n \\n24 High Dependency\\n \\nU\\nnits established across KP.\\n \\n\\n \\n20 hospitals identified as back\\n-\\nup facilities across the province in case of escalation of the outbreak. \\n \\n\\n \\n20 bed isolation and 5 bed in ICU\\n \\nat D.I Khan designated and staff oriented. \\n \\nGB\\n \\n\\n \\n280\\n \\nhealth\\ncare workers oriented on COVID\\n-\\n19 IPC, case detection, sur\\nveillance and contact tracing. \\n \\nRisk Communication\\n:\\n \\n1.\\n \\nClean your \\nhands \\nregularly with an alcohol\\n-\\nbased hand rub, or wash them with soap\\n.\\n \\n2.\\n \\nClean surfaces regularly with recommended disinfectants (70% Ethyl Alcohol\\n \\nor 0.5% bleach solution\\n)\\n.\\n \\n3.\\n \\nA\\nvoid\\n \\ntouching your eyes, nose and mouth\\n \\nwith contaminated hands\\n.\\n \\n4.\\n \\nP\\nractice\\n \\nrespiratory hygiene by coughing or sneezing into a bent elbow or tissu\\ne and then immediately dispose\\n \\no\\nf\\nf\\n.\\n \\n \\n5.\\n \\nW\\near\\n \\na medical/surgical mask if you have res\\npiratory symptoms and perform\\n \\nhand hygiene after disposing of\\nf of\\n \\nthe mask\\n.\\n \\n6.\\n \\nM\\naintain a minimum of mandatory one \\nmeter distance\\n \\nfrom individuals with respiratory symptoms.\\n \\n7.\\n \\nHealthcare workers are required to select and\\n \\nuse appropriate PPE.\\n \\n8.\\n \\nAdministrative controls\\n \\ninclude ensuring the availability of \\nIPC \\nresources such as appropriate infrastructure, clear \\nIPC policies, access to lab \\ntesting, \\ntriage and \\npatient \\nplacement\\n, adequate staff\\n \\nand training of staff. \\n \\n9.\\n \\nEnvironmental and engineering controls\\n \\naim at reducing the spread of pathogens and reducing the contamination of s\\nurfaces and \\ninanimate objects.\\n \\n \\n'"
      ]
     },
     "execution_count": 62,
     "metadata": {},
     "output_type": "execute_result"
    }
   ],
   "source": [
    "import PyPDF2 as pdf\n",
    "\n",
    "input=pdf.PdfFileReader(open('datasets_560422_1058710_COVID-19-Daily-Updated-SitRep-11-Mar-2020.pdf','rb'))\n",
    "\n",
    "page=input.getPage(0).extractText()\n",
    "\n",
    "page=input.getPage(0).extractText()\n",
    "\n",
    "page"
   ]
  },
  {
   "cell_type": "code",
   "execution_count": 65,
   "metadata": {},
   "outputs": [
    {
     "data": {
      "text/plain": [
       "str"
      ]
     },
     "execution_count": 65,
     "metadata": {},
     "output_type": "execute_result"
    }
   ],
   "source": [
    "type(page)"
   ]
  },
  {
   "cell_type": "code",
   "execution_count": 68,
   "metadata": {},
   "outputs": [
    {
     "data": {
      "text/plain": [
       "535"
      ]
     },
     "execution_count": 68,
     "metadata": {},
     "output_type": "execute_result"
    }
   ],
   "source": [
    "page.index('Data of Suspected and Confirmed Cases')+len('Data of Suspected and Confirmed Cases')"
   ]
  },
  {
   "cell_type": "code",
   "execution_count": 69,
   "metadata": {},
   "outputs": [
    {
     "data": {
      "text/plain": [
       "'Data of Suspected and Confirmed Cases'"
      ]
     },
     "execution_count": 69,
     "metadata": {},
     "output_type": "execute_result"
    }
   ],
   "source": [
    "page[498:535]"
   ]
  },
  {
   "cell_type": "code",
   "execution_count": 70,
   "metadata": {},
   "outputs": [
    {
     "data": {
      "text/plain": [
       "37"
      ]
     },
     "execution_count": 70,
     "metadata": {},
     "output_type": "execute_result"
    }
   ],
   "source": [
    "len('Data of Suspected and Confirmed Cases')"
   ]
  },
  {
   "cell_type": "code",
   "execution_count": 71,
   "metadata": {},
   "outputs": [],
   "source": [
    "page=page[535:]"
   ]
  },
  {
   "cell_type": "code",
   "execution_count": 72,
   "metadata": {},
   "outputs": [
    {
     "data": {
      "text/plain": [
       "'\\n \\nProvince/ \\nRegion\\n \\n \\nSuspected cases at \\nhospitals\\n \\n \\nHospital \\nUpdate\\n \\nNew\\n \\n(last 24 \\nhrs)\\n \\n \\nCumulative\\n \\n \\nTests \\nperformed in \\nlast 24 hours\\n*\\n \\nCumulative \\ntests \\nperformed\\n*\\n \\n \\nCumulative \\nTest\\n \\npositive\\n*\\n \\n \\n \\nStill admitted \\n \\nDischarged\\n \\nExpired\\n \\nICT  \\n \\n3\\n \\n48\\n \\n8\\n \\n80\\n \\n2\\n \\n \\n2\\n \\n0\\n \\n0\\n \\nPunjab\\n \\n6\\n \\n61\\n \\n7\\n \\n95\\n \\n0\\n \\n0\\n \\n0\\n \\n0\\n \\nSindh\\n \\n1\\n \\n84\\n \\n55\\n \\n171\\n \\n14\\n \\n13\\n \\n1\\n \\n0\\n \\nKP\\n \\n0\\n \\n20\\n \\n2\\n \\n28\\n \\n0\\n \\n0\\n \\n0\\n \\n0\\n \\nKPTD \\n \\n0\\n \\n3\\n \\n0\\n \\n0\\n \\n0\\n \\n0\\n \\n0\\n \\n0\\n \\nBalochistan \\n \\n4\\n \\n19\\n \\n4\\n \\n18\\n \\n1\\n \\n1\\n \\n0\\n \\n0\\n \\nAJK\\n \\n0\\n \\n3\\n \\n0\\n \\n4\\n \\n0\\n \\n0\\n \\n0\\n \\n0\\n \\nGB\\n \\n \\n10\\n \\n4\\n \\n26\\n \\n2\\n \\n2\\n \\n0\\n \\n0\\n \\nTotal\\n \\n14\\n \\n248\\n \\n80\\n \\n422\\n \\n19\\n \\n18\\n \\n1\\n \\n0\\n \\n*Data updated from NIH Live Dashboard (link at the bottom)\\n \\n**\\n \\nFollo\\nw\\n-\\nup calls to contacts of cases\\n \\nTravelers Screened at Points of \\nEntry\\n \\nin last 24 hours\\n \\n21,102\\n \\nCumulative travelers Screened\\n \\n \\n873,288\\n \\nSuspected at Points of Entry\\n \\n \\n26\\n \\nCall Records (n)\\n \\nReturnees \\nfrom \\nChina\\n \\nReturnees \\nfrom \\nIran\\n \\nFirst\\n-\\ntime calls in \\npast 24 hrs \\n \\n17\\n \\n0\\n \\nCumulative no of \\nfirst\\n-\\ntime calls \\n \\n5,342\\n \\n9,459\\n \\nFollow\\n-\\nup calls in \\npast 24 hrs\\n \\n400\\n \\n353\\n \\nCumulative \\nfollow\\n-\\nup calls\\n \\n7,746\\n \\n2,553\\n \\nUpdates\\n:\\n \\nPakistan:\\n \\n \\n\\n \\nThree new cases have been confirmed in the past 24 hours, bringing the tally to 19.\\n \\n\\n \\nNumber of calls to passengers returning from Iraq: 144\\n \\nGlobal\\n:\\n \\n\\n \\nTotal cases: 118,887, \\n \\nTotal Deaths: 4,290\\n \\n\\n \\nTotal affected countries: \\n109 including Turkey and Panama. \\n \\nAdvised Self\\n-\\nQuarantine\\n \\n11\\n \\n0\\n \\nNational Emergency Operation Centre\\n \\nHelpline 1166 Summary\\n \\nNIH Preparedness \\nand Response: \\n \\n\\n \\nBSL\\n-\\n3 \\nmobile lab with state of art equipment\\n \\nhas been installed at\\n \\nTaftan\\n \\nand ready for testing. \\n \\n\\n \\nIPC \\ntrainings\\n \\nhave been completed at Gilgit and the tem is moving towards Skardu.\\n \\n \\n\\n \\nTraining of the GB lab staff has been conducted at NIH and necessary equipment provided. \\n \\n\\n \\nIPC training is in progress for FG Hospital staff at NIH.\\n \\nNew Calls \\n \\n547\\n \\nCumulative Calls \\nsince 31st Jan, 2020\\n \\n \\n12,481\\n \\nRisk Assessment: \\nCurrent impact of the disease in Pakistan is: \\nMODERATE.    \\n \\nProvinces\\n \\nPreparedness and Response\\n \\nBalochistan\\n \\n\\n \\n316 newly arrived \\nindividuals screened \\nand quarantined at Taftan border in last 24 hours. \\n \\n\\n \\n14 Chinese nationals quarantined at East Bay Expressway Chinese Camp, Gwadar\\n.\\n \\nAll found healthy with no sign of COVID\\n-\\n19 \\n\\n \\nSindh\\n \\n\\n \\nS\\ntaff deployed t\\no designat\\ned quarantine facility at Gadap, Karachi\\n. \\n \\n\\n \\nTraining\\n \\nand orientation sessions for the health\\n \\nstaff at Hyderabad started.\\n \\n \\nKP & TD\\n \\n\\n \\n24 High Dependency\\n \\nU\\nnits established across KP.\\n \\n\\n \\n20 hospitals identified as back\\n-\\nup facilities across the province in case of escalation of the outbreak. \\n \\n\\n \\n20 bed isolation and 5 bed in ICU\\n \\nat D.I Khan designated and staff oriented. \\n \\nGB\\n \\n\\n \\n280\\n \\nhealth\\ncare workers oriented on COVID\\n-\\n19 IPC, case detection, sur\\nveillance and contact tracing. \\n \\nRisk Communication\\n:\\n \\n1.\\n \\nClean your \\nhands \\nregularly with an alcohol\\n-\\nbased hand rub, or wash them with soap\\n.\\n \\n2.\\n \\nClean surfaces regularly with recommended disinfectants (70% Ethyl Alcohol\\n \\nor 0.5% bleach solution\\n)\\n.\\n \\n3.\\n \\nA\\nvoid\\n \\ntouching your eyes, nose and mouth\\n \\nwith contaminated hands\\n.\\n \\n4.\\n \\nP\\nractice\\n \\nrespiratory hygiene by coughing or sneezing into a bent elbow or tissu\\ne and then immediately dispose\\n \\no\\nf\\nf\\n.\\n \\n \\n5.\\n \\nW\\near\\n \\na medical/surgical mask if you have res\\npiratory symptoms and perform\\n \\nhand hygiene after disposing of\\nf of\\n \\nthe mask\\n.\\n \\n6.\\n \\nM\\naintain a minimum of mandatory one \\nmeter distance\\n \\nfrom individuals with respiratory symptoms.\\n \\n7.\\n \\nHealthcare workers are required to select and\\n \\nuse appropriate PPE.\\n \\n8.\\n \\nAdministrative controls\\n \\ninclude ensuring the availability of \\nIPC \\nresources such as appropriate infrastructure, clear \\nIPC policies, access to lab \\ntesting, \\ntriage and \\npatient \\nplacement\\n, adequate staff\\n \\nand training of staff. \\n \\n9.\\n \\nEnvironmental and engineering controls\\n \\naim at reducing the spread of pathogens and reducing the contamination of s\\nurfaces and \\ninanimate objects.\\n \\n \\n'"
      ]
     },
     "execution_count": 72,
     "metadata": {},
     "output_type": "execute_result"
    }
   ],
   "source": [
    "page"
   ]
  },
  {
   "cell_type": "code",
   "execution_count": 74,
   "metadata": {},
   "outputs": [
    {
     "data": {
      "text/plain": [
       "653"
      ]
     },
     "execution_count": 74,
     "metadata": {},
     "output_type": "execute_result"
    }
   ],
   "source": [
    "page.index('*Data updated from NIH Live ')"
   ]
  },
  {
   "cell_type": "code",
   "execution_count": 75,
   "metadata": {},
   "outputs": [],
   "source": [
    "table1=page[:653]"
   ]
  },
  {
   "cell_type": "code",
   "execution_count": 76,
   "metadata": {},
   "outputs": [
    {
     "data": {
      "text/plain": [
       "'\\n \\nProvince/ \\nRegion\\n \\n \\nSuspected cases at \\nhospitals\\n \\n \\nHospital \\nUpdate\\n \\nNew\\n \\n(last 24 \\nhrs)\\n \\n \\nCumulative\\n \\n \\nTests \\nperformed in \\nlast 24 hours\\n*\\n \\nCumulative \\ntests \\nperformed\\n*\\n \\n \\nCumulative \\nTest\\n \\npositive\\n*\\n \\n \\n \\nStill admitted \\n \\nDischarged\\n \\nExpired\\n \\nICT  \\n \\n3\\n \\n48\\n \\n8\\n \\n80\\n \\n2\\n \\n \\n2\\n \\n0\\n \\n0\\n \\nPunjab\\n \\n6\\n \\n61\\n \\n7\\n \\n95\\n \\n0\\n \\n0\\n \\n0\\n \\n0\\n \\nSindh\\n \\n1\\n \\n84\\n \\n55\\n \\n171\\n \\n14\\n \\n13\\n \\n1\\n \\n0\\n \\nKP\\n \\n0\\n \\n20\\n \\n2\\n \\n28\\n \\n0\\n \\n0\\n \\n0\\n \\n0\\n \\nKPTD \\n \\n0\\n \\n3\\n \\n0\\n \\n0\\n \\n0\\n \\n0\\n \\n0\\n \\n0\\n \\nBalochistan \\n \\n4\\n \\n19\\n \\n4\\n \\n18\\n \\n1\\n \\n1\\n \\n0\\n \\n0\\n \\nAJK\\n \\n0\\n \\n3\\n \\n0\\n \\n4\\n \\n0\\n \\n0\\n \\n0\\n \\n0\\n \\nGB\\n \\n \\n10\\n \\n4\\n \\n26\\n \\n2\\n \\n2\\n \\n0\\n \\n0\\n \\nTotal\\n \\n14\\n \\n248\\n \\n80\\n \\n422\\n \\n19\\n \\n18\\n \\n1\\n \\n0\\n \\n'"
      ]
     },
     "execution_count": 76,
     "metadata": {},
     "output_type": "execute_result"
    }
   ],
   "source": [
    "table1"
   ]
  },
  {
   "cell_type": "code",
   "execution_count": 77,
   "metadata": {},
   "outputs": [
    {
     "data": {
      "text/plain": [
       "912"
      ]
     },
     "execution_count": 77,
     "metadata": {},
     "output_type": "execute_result"
    }
   ],
   "source": [
    "page.index('Call Records (n)')"
   ]
  },
  {
   "cell_type": "code",
   "execution_count": 78,
   "metadata": {},
   "outputs": [
    {
     "data": {
      "text/plain": [
       "1518"
      ]
     },
     "execution_count": 78,
     "metadata": {},
     "output_type": "execute_result"
    }
   ],
   "source": [
    "page.index('National Emer')"
   ]
  },
  {
   "cell_type": "code",
   "execution_count": 79,
   "metadata": {},
   "outputs": [],
   "source": [
    "table2=page[912:1518]"
   ]
  },
  {
   "cell_type": "code",
   "execution_count": 80,
   "metadata": {},
   "outputs": [
    {
     "data": {
      "text/plain": [
       "'Call Records (n)\\n \\nReturnees \\nfrom \\nChina\\n \\nReturnees \\nfrom \\nIran\\n \\nFirst\\n-\\ntime calls in \\npast 24 hrs \\n \\n17\\n \\n0\\n \\nCumulative no of \\nfirst\\n-\\ntime calls \\n \\n5,342\\n \\n9,459\\n \\nFollow\\n-\\nup calls in \\npast 24 hrs\\n \\n400\\n \\n353\\n \\nCumulative \\nfollow\\n-\\nup calls\\n \\n7,746\\n \\n2,553\\n \\nUpdates\\n:\\n \\nPakistan:\\n \\n \\n\\n \\nThree new cases have been confirmed in the past 24 hours, bringing the tally to 19.\\n \\n\\n \\nNumber of calls to passengers returning from Iraq: 144\\n \\nGlobal\\n:\\n \\n\\n \\nTotal cases: 118,887, \\n \\nTotal Deaths: 4,290\\n \\n\\n \\nTotal affected countries: \\n109 including Turkey and Panama. \\n \\nAdvised Self\\n-\\nQuarantine\\n \\n11\\n \\n0\\n \\n'"
      ]
     },
     "execution_count": 80,
     "metadata": {},
     "output_type": "execute_result"
    }
   ],
   "source": [
    "table2"
   ]
  },
  {
   "cell_type": "code",
   "execution_count": 96,
   "metadata": {},
   "outputs": [],
   "source": [
    "table1_test = table1.replace('\\n \\n',', ')"
   ]
  },
  {
   "cell_type": "code",
   "execution_count": 97,
   "metadata": {},
   "outputs": [
    {
     "data": {
      "text/plain": [
       "', Province/ \\nRegion,  \\nSuspected cases at \\nhospitals,  \\nHospital \\nUpdate, New, (last 24 \\nhrs),  \\nCumulative,  \\nTests \\nperformed in \\nlast 24 hours\\n*, Cumulative \\ntests \\nperformed\\n*,  \\nCumulative \\nTest, positive\\n*,  , Still admitted , Discharged, Expired, ICT  , 3, 48, 8, 80, 2,  \\n2, 0, 0, Punjab, 6, 61, 7, 95, 0, 0, 0, 0, Sindh, 1, 84, 55, 171, 14, 13, 1, 0, KP, 0, 20, 2, 28, 0, 0, 0, 0, KPTD , 0, 3, 0, 0, 0, 0, 0, 0, Balochistan , 4, 19, 4, 18, 1, 1, 0, 0, AJK, 0, 3, 0, 4, 0, 0, 0, 0, GB,  \\n10, 4, 26, 2, 2, 0, 0, Total, 14, 248, 80, 422, 19, 18, 1, 0, '"
      ]
     },
     "execution_count": 97,
     "metadata": {},
     "output_type": "execute_result"
    }
   ],
   "source": [
    "table1_test"
   ]
  },
  {
   "cell_type": "code",
   "execution_count": 98,
   "metadata": {},
   "outputs": [],
   "source": [
    "table1_test=table1_test[1:-1]"
   ]
  },
  {
   "cell_type": "code",
   "execution_count": 99,
   "metadata": {},
   "outputs": [],
   "source": [
    "table1_test=table1_test.replace('New,','New')"
   ]
  },
  {
   "cell_type": "code",
   "execution_count": 100,
   "metadata": {},
   "outputs": [
    {
     "data": {
      "text/plain": [
       "' Province/ \\nRegion,  \\nSuspected cases at \\nhospitals,  \\nHospital \\nUpdate, New (last 24 \\nhrs),  \\nCumulative,  \\nTests \\nperformed in \\nlast 24 hours\\n*, Cumulative \\ntests \\nperformed\\n*,  \\nCumulative \\nTest, positive\\n*,  , Still admitted , Discharged, Expired, ICT  , 3, 48, 8, 80, 2,  \\n2, 0, 0, Punjab, 6, 61, 7, 95, 0, 0, 0, 0, Sindh, 1, 84, 55, 171, 14, 13, 1, 0, KP, 0, 20, 2, 28, 0, 0, 0, 0, KPTD , 0, 3, 0, 0, 0, 0, 0, 0, Balochistan , 4, 19, 4, 18, 1, 1, 0, 0, AJK, 0, 3, 0, 4, 0, 0, 0, 0, GB,  \\n10, 4, 26, 2, 2, 0, 0, Total, 14, 248, 80, 422, 19, 18, 1, 0,'"
      ]
     },
     "execution_count": 100,
     "metadata": {},
     "output_type": "execute_result"
    }
   ],
   "source": [
    "table1_test"
   ]
  },
  {
   "cell_type": "code",
   "execution_count": 107,
   "metadata": {},
   "outputs": [],
   "source": [
    "table1_test=table1_test.replace('Province/ \\nRegion','Province_or_Region')\n"
   ]
  },
  {
   "cell_type": "code",
   "execution_count": 163,
   "metadata": {},
   "outputs": [],
   "source": [
    "table1_test2=table1_test.replace('\\nSuspected cases at \\nhospitals,','')\n"
   ]
  },
  {
   "cell_type": "code",
   "execution_count": 164,
   "metadata": {},
   "outputs": [],
   "source": [
    "table1_test2=table1_test2.replace('    \\nHospital \\nUpdate,','')"
   ]
  },
  {
   "cell_type": "code",
   "execution_count": 165,
   "metadata": {},
   "outputs": [],
   "source": [
    "table1_test2=table1_test2.replace('New (last 24 \\nhrs)','New_last_24hrs')"
   ]
  },
  {
   "cell_type": "code",
   "execution_count": 166,
   "metadata": {},
   "outputs": [],
   "source": [
    "table1_test2=table1_test2.replace('  \\nCumulative','Cumulative').replace('\\nperformed in \\nlast 24 hours\\n*','performed_in_last_24hrs')"
   ]
  },
  {
   "cell_type": "code",
   "execution_count": 167,
   "metadata": {},
   "outputs": [],
   "source": [
    "table1_test2=table1_test2.replace('  \\nTests performed_in_last_24hrs','Tests performed_in_last_24hrs')\\\n",
    ".replace('Cumulative \\ntests \\nperformed\\n*','Cumulative_tests_performed')\\\n",
    ".replace('Cumulative \\nTest, positive\\n*,','Cumulative_test_postive')\\\n",
    ".replace('\\n2','2')\\\n",
    ".replace('\\n10',\"' ',10\")"
   ]
  },
  {
   "cell_type": "code",
   "execution_count": 168,
   "metadata": {},
   "outputs": [
    {
     "data": {
      "text/plain": [
       "\" Province_or_Region, New_last_24hrs,Cumulative,Tests performed_in_last_24hrs, Cumulative_tests_performed,Cumulative_test_postive  , Still admitted , Discharged, Expired, ICT  , 3, 48, 8, 80, 2,  2, 0, 0, Punjab, 6, 61, 7, 95, 0, 0, 0, 0, Sindh, 1, 84, 55, 171, 14, 13, 1, 0, KP, 0, 20, 2, 28, 0, 0, 0, 0, KPTD , 0, 3, 0, 0, 0, 0, 0, 0, Balochistan , 4, 19, 4, 18, 1, 1, 0, 0, AJK, 0, 3, 0, 4, 0, 0, 0, 0, GB,  ' ',10, 4, 26, 2, 2, 0, 0, Total, 14, 248, 80, 422, 19, 18, 1, 0,\""
      ]
     },
     "execution_count": 168,
     "metadata": {},
     "output_type": "execute_result"
    }
   ],
   "source": [
    "table1_test2"
   ]
  },
  {
   "cell_type": "code",
   "execution_count": 169,
   "metadata": {},
   "outputs": [],
   "source": [
    "table1_test2=table1_test2[:table1_test2.index('Total')]"
   ]
  },
  {
   "cell_type": "code",
   "execution_count": 172,
   "metadata": {},
   "outputs": [],
   "source": [
    "table1_test2=table1_test2[:-1]"
   ]
  },
  {
   "cell_type": "code",
   "execution_count": 173,
   "metadata": {},
   "outputs": [
    {
     "data": {
      "text/plain": [
       "\" Province_or_Region, New_last_24hrs,Cumulative,Tests performed_in_last_24hrs, Cumulative_tests_performed,Cumulative_test_postive  , Still admitted , Discharged, Expired, ICT  , 3, 48, 8, 80, 2,  2, 0, 0, Punjab, 6, 61, 7, 95, 0, 0, 0, 0, Sindh, 1, 84, 55, 171, 14, 13, 1, 0, KP, 0, 20, 2, 28, 0, 0, 0, 0, KPTD , 0, 3, 0, 0, 0, 0, 0, 0, Balochistan , 4, 19, 4, 18, 1, 1, 0, 0, AJK, 0, 3, 0, 4, 0, 0, 0, 0, GB,  ' ',10, 4, 26, 2, 2, 0, 0\""
      ]
     },
     "execution_count": 173,
     "metadata": {},
     "output_type": "execute_result"
    }
   ],
   "source": [
    "table1_test2"
   ]
  },
  {
   "cell_type": "code",
   "execution_count": 174,
   "metadata": {},
   "outputs": [],
   "source": [
    "# set up line breaks\n",
    "table1_test2 = table1_test2.replace('ICT','break ICT')\\\n",
    ".replace('Punjab', 'break Punjab').replace('Sindh', 'break Sindh')\\\n",
    ".replace('KPTD','break KPTD').replace('Balochistan', 'break Balochistan')\\\n",
    ".replace('GB','break GB').replace('AJK','break AJK')\\\n",
    ".replace('KP','break KP')\n"
   ]
  },
  {
   "cell_type": "code",
   "execution_count": 176,
   "metadata": {},
   "outputs": [],
   "source": [
    "table1_test2=table1_test2.replace('break break KPTD ','break KPTD')"
   ]
  },
  {
   "cell_type": "code",
   "execution_count": 177,
   "metadata": {},
   "outputs": [
    {
     "data": {
      "text/plain": [
       "\" Province_or_Region, New_last_24hrs,Cumulative,Tests performed_in_last_24hrs, Cumulative_tests_performed,Cumulative_test_postive  , Still admitted , Discharged, Expired, break ICT  , 3, 48, 8, 80, 2,  2, 0, 0, break Punjab, 6, 61, 7, 95, 0, 0, 0, 0, break Sindh, 1, 84, 55, 171, 14, 13, 1, 0, break KP, 0, 20, 2, 28, 0, 0, 0, 0, break KPTD, 0, 3, 0, 0, 0, 0, 0, 0, break Balochistan , 4, 19, 4, 18, 1, 1, 0, 0, break AJK, 0, 3, 0, 4, 0, 0, 0, 0, break GB,  ' ',10, 4, 26, 2, 2, 0, 0\""
      ]
     },
     "execution_count": 177,
     "metadata": {},
     "output_type": "execute_result"
    }
   ],
   "source": [
    "table1_test2"
   ]
  },
  {
   "cell_type": "code",
   "execution_count": 178,
   "metadata": {},
   "outputs": [
    {
     "data": {
      "text/plain": [
       "\" Province_or_Region, New_last_24hrs,Cumulative,Tests performed_in_last_24hrs, Cumulative_tests_performed,Cumulative_test_postive  , Still admitted , Discharged, Expired, break ICT  , 3, 48, 8, 80, 2,  2, 0, 0, break Punjab, 6, 61, 7, 95, 0, 0, 0, 0, break Sindh, 1, 84, 55, 171, 14, 13, 1, 0, break KP, 0, 20, 2, 28, 0, 0, 0, 0, break KPTD, 0, 3, 0, 0, 0, 0, 0, 0, break Balochistan , 4, 19, 4, 18, 1, 1, 0, 0, break AJK, 0, 3, 0, 4, 0, 0, 0, 0, break GB,  ' ',10, 4, 26, 2, 2, 0, 0\""
      ]
     },
     "execution_count": 178,
     "metadata": {},
     "output_type": "execute_result"
    }
   ],
   "source": [
    "table1_test2"
   ]
  },
  {
   "cell_type": "code",
   "execution_count": 179,
   "metadata": {},
   "outputs": [],
   "source": [
    "page1 = table1_test2.split(' break')"
   ]
  },
  {
   "cell_type": "code",
   "execution_count": 180,
   "metadata": {},
   "outputs": [
    {
     "data": {
      "text/plain": [
       "[' Province_or_Region, New_last_24hrs,Cumulative,Tests performed_in_last_24hrs, Cumulative_tests_performed,Cumulative_test_postive  , Still admitted , Discharged, Expired,',\n",
       " ' ICT  , 3, 48, 8, 80, 2,  2, 0, 0,',\n",
       " ' Punjab, 6, 61, 7, 95, 0, 0, 0, 0,',\n",
       " ' Sindh, 1, 84, 55, 171, 14, 13, 1, 0,',\n",
       " ' KP, 0, 20, 2, 28, 0, 0, 0, 0,',\n",
       " ' KPTD, 0, 3, 0, 0, 0, 0, 0, 0,',\n",
       " ' Balochistan , 4, 19, 4, 18, 1, 1, 0, 0,',\n",
       " ' AJK, 0, 3, 0, 4, 0, 0, 0, 0,',\n",
       " \" GB,  ' ',10, 4, 26, 2, 2, 0, 0\"]"
      ]
     },
     "execution_count": 180,
     "metadata": {},
     "output_type": "execute_result"
    }
   ],
   "source": [
    "page1"
   ]
  },
  {
   "cell_type": "code",
   "execution_count": 181,
   "metadata": {},
   "outputs": [],
   "source": [
    "dbn_df = pd.DataFrame([sub.split(\",\") for sub in page1])"
   ]
  },
  {
   "cell_type": "code",
   "execution_count": 182,
   "metadata": {},
   "outputs": [
    {
     "data": {
      "text/html": [
       "<div>\n",
       "<style scoped>\n",
       "    .dataframe tbody tr th:only-of-type {\n",
       "        vertical-align: middle;\n",
       "    }\n",
       "\n",
       "    .dataframe tbody tr th {\n",
       "        vertical-align: top;\n",
       "    }\n",
       "\n",
       "    .dataframe thead th {\n",
       "        text-align: right;\n",
       "    }\n",
       "</style>\n",
       "<table border=\"1\" class=\"dataframe\">\n",
       "  <thead>\n",
       "    <tr style=\"text-align: right;\">\n",
       "      <th></th>\n",
       "      <th>0</th>\n",
       "      <th>1</th>\n",
       "      <th>2</th>\n",
       "      <th>3</th>\n",
       "      <th>4</th>\n",
       "      <th>5</th>\n",
       "      <th>6</th>\n",
       "      <th>7</th>\n",
       "      <th>8</th>\n",
       "      <th>9</th>\n",
       "    </tr>\n",
       "  </thead>\n",
       "  <tbody>\n",
       "    <tr>\n",
       "      <th>0</th>\n",
       "      <td>Province_or_Region</td>\n",
       "      <td>New_last_24hrs</td>\n",
       "      <td>Cumulative</td>\n",
       "      <td>Tests performed_in_last_24hrs</td>\n",
       "      <td>Cumulative_tests_performed</td>\n",
       "      <td>Cumulative_test_postive</td>\n",
       "      <td>Still admitted</td>\n",
       "      <td>Discharged</td>\n",
       "      <td>Expired</td>\n",
       "      <td></td>\n",
       "    </tr>\n",
       "    <tr>\n",
       "      <th>1</th>\n",
       "      <td>ICT</td>\n",
       "      <td>3</td>\n",
       "      <td>48</td>\n",
       "      <td>8</td>\n",
       "      <td>80</td>\n",
       "      <td>2</td>\n",
       "      <td>2</td>\n",
       "      <td>0</td>\n",
       "      <td>0</td>\n",
       "      <td></td>\n",
       "    </tr>\n",
       "    <tr>\n",
       "      <th>2</th>\n",
       "      <td>Punjab</td>\n",
       "      <td>6</td>\n",
       "      <td>61</td>\n",
       "      <td>7</td>\n",
       "      <td>95</td>\n",
       "      <td>0</td>\n",
       "      <td>0</td>\n",
       "      <td>0</td>\n",
       "      <td>0</td>\n",
       "      <td></td>\n",
       "    </tr>\n",
       "    <tr>\n",
       "      <th>3</th>\n",
       "      <td>Sindh</td>\n",
       "      <td>1</td>\n",
       "      <td>84</td>\n",
       "      <td>55</td>\n",
       "      <td>171</td>\n",
       "      <td>14</td>\n",
       "      <td>13</td>\n",
       "      <td>1</td>\n",
       "      <td>0</td>\n",
       "      <td></td>\n",
       "    </tr>\n",
       "    <tr>\n",
       "      <th>4</th>\n",
       "      <td>KP</td>\n",
       "      <td>0</td>\n",
       "      <td>20</td>\n",
       "      <td>2</td>\n",
       "      <td>28</td>\n",
       "      <td>0</td>\n",
       "      <td>0</td>\n",
       "      <td>0</td>\n",
       "      <td>0</td>\n",
       "      <td></td>\n",
       "    </tr>\n",
       "    <tr>\n",
       "      <th>5</th>\n",
       "      <td>KPTD</td>\n",
       "      <td>0</td>\n",
       "      <td>3</td>\n",
       "      <td>0</td>\n",
       "      <td>0</td>\n",
       "      <td>0</td>\n",
       "      <td>0</td>\n",
       "      <td>0</td>\n",
       "      <td>0</td>\n",
       "      <td></td>\n",
       "    </tr>\n",
       "    <tr>\n",
       "      <th>6</th>\n",
       "      <td>Balochistan</td>\n",
       "      <td>4</td>\n",
       "      <td>19</td>\n",
       "      <td>4</td>\n",
       "      <td>18</td>\n",
       "      <td>1</td>\n",
       "      <td>1</td>\n",
       "      <td>0</td>\n",
       "      <td>0</td>\n",
       "      <td></td>\n",
       "    </tr>\n",
       "    <tr>\n",
       "      <th>7</th>\n",
       "      <td>AJK</td>\n",
       "      <td>0</td>\n",
       "      <td>3</td>\n",
       "      <td>0</td>\n",
       "      <td>4</td>\n",
       "      <td>0</td>\n",
       "      <td>0</td>\n",
       "      <td>0</td>\n",
       "      <td>0</td>\n",
       "      <td></td>\n",
       "    </tr>\n",
       "    <tr>\n",
       "      <th>8</th>\n",
       "      <td>GB</td>\n",
       "      <td>' '</td>\n",
       "      <td>10</td>\n",
       "      <td>4</td>\n",
       "      <td>26</td>\n",
       "      <td>2</td>\n",
       "      <td>2</td>\n",
       "      <td>0</td>\n",
       "      <td>0</td>\n",
       "      <td>None</td>\n",
       "    </tr>\n",
       "  </tbody>\n",
       "</table>\n",
       "</div>"
      ],
      "text/plain": [
       "                     0                1           2  \\\n",
       "0   Province_or_Region   New_last_24hrs  Cumulative   \n",
       "1                ICT                  3          48   \n",
       "2               Punjab                6          61   \n",
       "3                Sindh                1          84   \n",
       "4                   KP                0          20   \n",
       "5                 KPTD                0           3   \n",
       "6         Balochistan                 4          19   \n",
       "7                  AJK                0           3   \n",
       "8                   GB              ' '          10   \n",
       "\n",
       "                               3                            4  \\\n",
       "0  Tests performed_in_last_24hrs   Cumulative_tests_performed   \n",
       "1                              8                           80   \n",
       "2                              7                           95   \n",
       "3                             55                          171   \n",
       "4                              2                           28   \n",
       "5                              0                            0   \n",
       "6                              4                           18   \n",
       "7                              0                            4   \n",
       "8                              4                           26   \n",
       "\n",
       "                           5                 6            7         8     9  \n",
       "0  Cumulative_test_postive     Still admitted    Discharged   Expired        \n",
       "1                          2                 2            0         0        \n",
       "2                          0                 0            0         0        \n",
       "3                         14                13            1         0        \n",
       "4                          0                 0            0         0        \n",
       "5                          0                 0            0         0        \n",
       "6                          1                 1            0         0        \n",
       "7                          0                 0            0         0        \n",
       "8                          2                 2            0         0  None  "
      ]
     },
     "execution_count": 182,
     "metadata": {},
     "output_type": "execute_result"
    }
   ],
   "source": [
    "dbn_df"
   ]
  },
  {
   "cell_type": "code",
   "execution_count": 186,
   "metadata": {},
   "outputs": [],
   "source": [
    "dbn_df.drop(9,axis=1,inplace=True)"
   ]
  },
  {
   "cell_type": "code",
   "execution_count": 187,
   "metadata": {},
   "outputs": [],
   "source": [
    "column=['Province_or_Region','New_last_24hrs','Cumulative','Tests performed_in_last_24hrs',\n",
    "        'Cumulative_tests_performed','Cumulative_test_postive','Still admitted',\n",
    "      'Discharged','Expired']\n",
    "dbn_df.columns=column\n"
   ]
  },
  {
   "cell_type": "code",
   "execution_count": 190,
   "metadata": {},
   "outputs": [],
   "source": [
    "dbn_df = dbn_df[1:]"
   ]
  },
  {
   "cell_type": "code",
   "execution_count": 192,
   "metadata": {},
   "outputs": [],
   "source": [
    "dbn_df.index=[0,1,2,3,4,5,6,7]"
   ]
  },
  {
   "cell_type": "code",
   "execution_count": 193,
   "metadata": {},
   "outputs": [
    {
     "data": {
      "text/html": [
       "<div>\n",
       "<style scoped>\n",
       "    .dataframe tbody tr th:only-of-type {\n",
       "        vertical-align: middle;\n",
       "    }\n",
       "\n",
       "    .dataframe tbody tr th {\n",
       "        vertical-align: top;\n",
       "    }\n",
       "\n",
       "    .dataframe thead th {\n",
       "        text-align: right;\n",
       "    }\n",
       "</style>\n",
       "<table border=\"1\" class=\"dataframe\">\n",
       "  <thead>\n",
       "    <tr style=\"text-align: right;\">\n",
       "      <th></th>\n",
       "      <th>Province_or_Region</th>\n",
       "      <th>New_last_24hrs</th>\n",
       "      <th>Cumulative</th>\n",
       "      <th>Tests performed_in_last_24hrs</th>\n",
       "      <th>Cumulative_tests_performed</th>\n",
       "      <th>Cumulative_test_postive</th>\n",
       "      <th>Still admitted</th>\n",
       "      <th>Discharged</th>\n",
       "      <th>Expired</th>\n",
       "    </tr>\n",
       "  </thead>\n",
       "  <tbody>\n",
       "    <tr>\n",
       "      <th>0</th>\n",
       "      <td>ICT</td>\n",
       "      <td>3</td>\n",
       "      <td>48</td>\n",
       "      <td>8</td>\n",
       "      <td>80</td>\n",
       "      <td>2</td>\n",
       "      <td>2</td>\n",
       "      <td>0</td>\n",
       "      <td>0</td>\n",
       "    </tr>\n",
       "    <tr>\n",
       "      <th>1</th>\n",
       "      <td>Punjab</td>\n",
       "      <td>6</td>\n",
       "      <td>61</td>\n",
       "      <td>7</td>\n",
       "      <td>95</td>\n",
       "      <td>0</td>\n",
       "      <td>0</td>\n",
       "      <td>0</td>\n",
       "      <td>0</td>\n",
       "    </tr>\n",
       "    <tr>\n",
       "      <th>2</th>\n",
       "      <td>Sindh</td>\n",
       "      <td>1</td>\n",
       "      <td>84</td>\n",
       "      <td>55</td>\n",
       "      <td>171</td>\n",
       "      <td>14</td>\n",
       "      <td>13</td>\n",
       "      <td>1</td>\n",
       "      <td>0</td>\n",
       "    </tr>\n",
       "    <tr>\n",
       "      <th>3</th>\n",
       "      <td>KP</td>\n",
       "      <td>0</td>\n",
       "      <td>20</td>\n",
       "      <td>2</td>\n",
       "      <td>28</td>\n",
       "      <td>0</td>\n",
       "      <td>0</td>\n",
       "      <td>0</td>\n",
       "      <td>0</td>\n",
       "    </tr>\n",
       "    <tr>\n",
       "      <th>4</th>\n",
       "      <td>KPTD</td>\n",
       "      <td>0</td>\n",
       "      <td>3</td>\n",
       "      <td>0</td>\n",
       "      <td>0</td>\n",
       "      <td>0</td>\n",
       "      <td>0</td>\n",
       "      <td>0</td>\n",
       "      <td>0</td>\n",
       "    </tr>\n",
       "    <tr>\n",
       "      <th>5</th>\n",
       "      <td>Balochistan</td>\n",
       "      <td>4</td>\n",
       "      <td>19</td>\n",
       "      <td>4</td>\n",
       "      <td>18</td>\n",
       "      <td>1</td>\n",
       "      <td>1</td>\n",
       "      <td>0</td>\n",
       "      <td>0</td>\n",
       "    </tr>\n",
       "    <tr>\n",
       "      <th>6</th>\n",
       "      <td>AJK</td>\n",
       "      <td>0</td>\n",
       "      <td>3</td>\n",
       "      <td>0</td>\n",
       "      <td>4</td>\n",
       "      <td>0</td>\n",
       "      <td>0</td>\n",
       "      <td>0</td>\n",
       "      <td>0</td>\n",
       "    </tr>\n",
       "    <tr>\n",
       "      <th>7</th>\n",
       "      <td>GB</td>\n",
       "      <td>' '</td>\n",
       "      <td>10</td>\n",
       "      <td>4</td>\n",
       "      <td>26</td>\n",
       "      <td>2</td>\n",
       "      <td>2</td>\n",
       "      <td>0</td>\n",
       "      <td>0</td>\n",
       "    </tr>\n",
       "  </tbody>\n",
       "</table>\n",
       "</div>"
      ],
      "text/plain": [
       "  Province_or_Region New_last_24hrs Cumulative Tests performed_in_last_24hrs  \\\n",
       "0              ICT                3         48                             8   \n",
       "1             Punjab              6         61                             7   \n",
       "2              Sindh              1         84                            55   \n",
       "3                 KP              0         20                             2   \n",
       "4               KPTD              0          3                             0   \n",
       "5       Balochistan               4         19                             4   \n",
       "6                AJK              0          3                             0   \n",
       "7                 GB            ' '         10                             4   \n",
       "\n",
       "  Cumulative_tests_performed Cumulative_test_postive Still admitted  \\\n",
       "0                         80                       2              2   \n",
       "1                         95                       0              0   \n",
       "2                        171                      14             13   \n",
       "3                         28                       0              0   \n",
       "4                          0                       0              0   \n",
       "5                         18                       1              1   \n",
       "6                          4                       0              0   \n",
       "7                         26                       2              2   \n",
       "\n",
       "  Discharged Expired  \n",
       "0          0       0  \n",
       "1          0       0  \n",
       "2          1       0  \n",
       "3          0       0  \n",
       "4          0       0  \n",
       "5          0       0  \n",
       "6          0       0  \n",
       "7          0       0  "
      ]
     },
     "execution_count": 193,
     "metadata": {},
     "output_type": "execute_result"
    }
   ],
   "source": [
    "dbn_df"
   ]
  },
  {
   "cell_type": "code",
   "execution_count": null,
   "metadata": {},
   "outputs": [],
   "source": []
  }
 ],
 "metadata": {
  "kernelspec": {
   "display_name": "Python 3",
   "language": "python",
   "name": "python3"
  },
  "language_info": {
   "codemirror_mode": {
    "name": "ipython",
    "version": 3
   },
   "file_extension": ".py",
   "mimetype": "text/x-python",
   "name": "python",
   "nbconvert_exporter": "python",
   "pygments_lexer": "ipython3",
   "version": "3.8.3"
  }
 },
 "nbformat": 4,
 "nbformat_minor": 4
}
